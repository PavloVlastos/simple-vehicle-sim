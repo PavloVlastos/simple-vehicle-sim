{
 "cells": [
  {
   "cell_type": "markdown",
   "metadata": {},
   "source": [
    "# Stress Test Yaw-Rate\n",
    "This is brief example of using AdaStress to adaptively stress test an external simulation. This is done by sending and receiving data over TCP between AdaStress and the main vehicle simulation."
   ]
  },
  {
   "cell_type": "code",
   "execution_count": 1,
   "metadata": {},
   "outputs": [
    {
     "name": "stderr",
     "output_type": "stream",
     "text": [
      "\u001b[32m\u001b[1m  Activating\u001b[22m\u001b[39m new project at `~/Repos/simple-vehicle-sim/ST_yaw_rate`\n"
     ]
    },
    {
     "data": {
      "text/plain": [
       "start_server (generic function with 1 method)"
      ]
     },
     "execution_count": 1,
     "metadata": {},
     "output_type": "execute_result"
    }
   ],
   "source": [
    "\n",
    "using Pkg\n",
    "Pkg.activate(\".\")\n",
    "\n",
    "include(\"transceive_data.jl\")"
   ]
  },
  {
   "cell_type": "code",
   "execution_count": 2,
   "metadata": {},
   "outputs": [],
   "source": [
    "using AdaStress\n",
    "import AdaStress.BlackBox\n",
    "using Plots"
   ]
  },
  {
   "cell_type": "markdown",
   "metadata": {},
   "source": [
    "# Simulation"
   ]
  },
  {
   "cell_type": "code",
   "execution_count": 3,
   "metadata": {},
   "outputs": [],
   "source": [
    "using Distributions"
   ]
  },
  {
   "cell_type": "code",
   "execution_count": 4,
   "metadata": {},
   "outputs": [
    {
     "data": {
      "text/plain": [
       "update! (generic function with 1 method)"
      ]
     },
     "execution_count": 4,
     "metadata": {},
     "output_type": "execute_result"
    }
   ],
   "source": [
    "Base.@kwdef mutable struct simple_vehicle <: AdaStress.BlackBox\n",
    "\tt::Float64 = 0.0\n",
    "\tt_max::Float64 = 10.0\n",
    "\tpsi_dot::Float64 = 0.0 # the yaw-rate of the vehicle\n",
    "\tpsi_dot_fail::Float64 = 10.0 # radians per second\n",
    "\tdist::Normal = Normal(0.0, 1.0)\n",
    "\tlog::Vector{Float64} = []\n",
    "end\n",
    "\n",
    "\n",
    "function initialize!(sim::simple_vehicle)\n",
    "\tsim.t = 0.0\n",
    "\tsim.psi_dot = 0.0\n",
    "\tsim.log = [sim.psi_dot]\n",
    "end\n",
    "\n",
    "function update!(sim::simple_vehicle)\n",
    "    # # Wait for yaw-rate data\n",
    "    # psi_dot, receive_message()\n",
    "    # sim.t = \n",
    "    a = rand(sim.dist)\n",
    "    # sim.x += a\n",
    "    # push!(sim.log, sim.x)\n",
    "    return logpdf(sim.dist, a) - logpdf(sim.dist, 0.0)\n",
    "end"
   ]
  },
  {
   "cell_type": "code",
   "execution_count": 5,
   "metadata": {},
   "outputs": [],
   "source": [
    "AdaStress.reset!(sim::simple_vehicle) = initialize!(sim)\n",
    "AdaStress.step!(sim::simple_vehicle) = update!(sim)\n",
    "AdaStress.isterminal(sim::simple_vehicle) = sim.t >= sim.t_max\n",
    "AdaStress.isevent(sim::simple_vehicle) = sim.psi_dot >= sim.psi_dot_fail\n",
    "AdaStress.distance(sim::simple_vehicle) = max(sim.psi_dot_fail - sim.psi_dot, 0.0)"
   ]
  },
  {
   "cell_type": "code",
   "execution_count": 6,
   "metadata": {},
   "outputs": [
    {
     "name": "stdout",
     "output_type": "stream",
     "text": [
      "Server listening on 0.0.0.0:9900...\n"
     ]
    },
    {
     "data": {
      "text/plain": [
       "Task (runnable) @0x000076232f0220e0"
      ]
     },
     "execution_count": 6,
     "metadata": {},
     "output_type": "execute_result"
    }
   ],
   "source": [
    "# 9900 is the port number for getting psi_dot data from the simulation\n",
    "@async start_server(\"0.0.0.0\", 9900) \n"
   ]
  },
  {
   "cell_type": "code",
   "execution_count": 7,
   "metadata": {},
   "outputs": [],
   "source": [
    "# mcs = AdaStress.Solvers.MCS(num_iterations=100_000)"
   ]
  },
  {
   "cell_type": "code",
   "execution_count": 8,
   "metadata": {},
   "outputs": [],
   "source": [
    "# mdp = AdaStress.ASTMDP(simple_vehicle())\n",
    "# mdp.reward.event_bonus = 100.0"
   ]
  },
  {
   "cell_type": "code",
   "execution_count": 9,
   "metadata": {},
   "outputs": [],
   "source": [
    "# Random.seed!(0)\n",
    "# @time sol = mcs(() -> mdp)"
   ]
  },
  {
   "cell_type": "code",
   "execution_count": 10,
   "metadata": {},
   "outputs": [
    {
     "name": "stdout",
     "output_type": "stream",
     "text": [
      "Client connected.\n",
      "Raw bytes received: UInt8[0x72, 0x00, 0x00, 0x00, 0x00]\n",
      "Received Message ID: 114, Float Bytes: UInt8[0x00, 0x00, 0x00, 0x00], Float Value: 0.000000\n",
      "Raw bytes received: UInt8[0x72, 0x00, 0x00, 0x00, 0x80]\n",
      "Received Message ID: 114, Float Bytes: UInt8[0x00, 0x00, 0x00, 0x80], Float Value: -0.000000\n",
      "Raw bytes received: UInt8[0x72, 0xfd, 0xf6, 0x67, 0x40]\n",
      "Received Message ID: 114, Float Bytes: UInt8[0xfd, 0xf6, 0x67, 0x40], Float Value: 3.624450\n",
      "Raw bytes received: UInt8[0x72, 0xc5, 0x56, 0x49, 0x40]\n",
      "Received Message ID: 114, Float Bytes: UInt8[0xc5, 0x56, 0x49, 0x40], Float Value: 3.145921\n",
      "Client connected.\n",
      "Raw bytes received: UInt8[0x72, 0x00, 0x00, 0x00, 0x00]\n",
      "Received Message ID: 114, Float Bytes: UInt8[0x00, 0x00, 0x00, 0x00], Float Value: 0.000000\n",
      "Raw bytes received: UInt8[0x72, 0x00, 0x00, 0x00, 0x80]\n",
      "Received Message ID: 114, Float Bytes: UInt8[0x00, 0x00, 0x00, 0x80], Float Value: -0.000000\n",
      "Raw bytes received: UInt8[0x72, 0xfd, 0xf6, 0x67, 0x40]\n",
      "Received Message ID: 114, Float Bytes: UInt8[0xfd, 0xf6, 0x67, 0x40], Float Value: 3.624450\n",
      "Raw bytes received: UInt8[0x72, 0xc5, 0x56, 0x49, 0x40]\n",
      "Received Message ID: 114, Float Bytes: UInt8[0xc5, 0x56, 0x49, 0x40], Float Value: 3.145921\n",
      "Client connected.\n",
      "Raw bytes received: UInt8[0x72, 0x00, 0x00, 0x00, 0x00]\n",
      "Received Message ID: 114, Float Bytes: UInt8[0x00, 0x00, 0x00, 0x00], Float Value: 0.000000\n",
      "Raw bytes received: UInt8[0x72, 0x00, 0x00, 0x00, 0x80]\n",
      "Received Message ID: 114, Float Bytes: UInt8[0x00, 0x00, 0x00, 0x80], Float Value: -0.000000\n",
      "Raw bytes received: UInt8[0x72, 0xfd, 0xf6, 0x67, 0x40]\n",
      "Received Message ID: 114, Float Bytes: UInt8[0xfd, 0xf6, 0x67, 0x40], Float Value: 3.624450\n",
      "Raw bytes received: UInt8[0x72, 0xc5, 0x56, 0x49, 0x40]\n",
      "Received Message ID: 114, Float Bytes: UInt8[0xc5, 0x56, 0x49, 0x40], Float Value: 3.145921\n",
      "Client connected.\n",
      "Raw bytes received: UInt8[0x72, 0x00, 0x00, 0x00, 0x00]\n",
      "Received Message ID: 114, Float Bytes: UInt8[0x00, 0x00, 0x00, 0x00], Float Value: 0.000000\n",
      "Raw bytes received: UInt8[0x72, 0x00, 0x00, 0x00, 0x80]\n",
      "Received Message ID: 114, Float Bytes: UInt8[0x00, 0x00, 0x00, 0x80], Float Value: -0.000000\n",
      "Raw bytes received: UInt8[0x72, 0xfd, 0xf6, 0x67, 0x40]\n",
      "Received Message ID: 114, Float Bytes: UInt8[0xfd, 0xf6, 0x67, 0x40], Float Value: 3.624450\n",
      "Raw bytes received: UInt8[0x72, 0xc5, 0x56, 0x49, 0x40]\n",
      "Received Message ID: 114, Float Bytes: UInt8[0xc5, 0x56, 0x49, 0x40], Float Value: 3.145921\n",
      "Raw bytes received: UInt8[0x72, 0x78, 0x3c, 0x2f, 0x40]\n",
      "Received Message ID: 114, Float Bytes: UInt8[0x78, 0x3c, 0x2f, 0x40], Float Value: 2.738066\n",
      "Raw bytes received: UInt8[0x72, 0xbd, 0xdc, 0x18, 0x40]\n",
      "Received Message ID: 114, Float Bytes: UInt8[0xbd, 0xdc, 0x18, 0x40], Float Value: 2.388473\n",
      "Raw bytes received: UInt8[0x72, 0xe7, 0x99, 0x05, 0x40]\n",
      "Received Message ID: 114, Float Bytes: UInt8[0xe7, 0x99, 0x05, 0x40], Float Value: 2.087518\n",
      "Raw bytes received: UInt8[0x72, 0xef, 0xed, 0xe9, 0x3f]\n",
      "Received Message ID: 114, Float Bytes: UInt8[0xef, 0xed, 0xe9, 0x3f], Float Value: 1.827574\n",
      "Raw bytes received: UInt8[0x72, 0xfe, 0x1c, 0xcd, 0x3f]\n",
      "Received Message ID: 114, Float Bytes: UInt8[0xfe, 0x1c, 0xcd, 0x3f], Float Value: 1.602447\n",
      "Raw bytes received: UInt8[0x72, 0xbe, 0x1a, 0xb4, 0x3f]\n",
      "Received Message ID: 114, Float Bytes: UInt8[0xbe, 0x1a, 0xb4, 0x3f], Float Value: 1.407066\n",
      "Raw bytes received: UInt8[0x72, 0xe8, 0x5c, 0x9e, 0x3f]\n",
      "Received Message ID: 114, Float Bytes: UInt8[0xe8, 0x5c, 0x9e, 0x3f], Float Value: 1.237210\n",
      "Raw bytes received: UInt8[0x72, 0x24, 0x6f, 0x8b, 0x3f]\n",
      "Received Message ID: 114, Float Bytes: UInt8[0x24, 0x6f, 0x8b, 0x3f], Float Value: 1.089329\n",
      "Raw bytes received: UInt8[0x72, 0x30, 0xde, 0x75, 0x3f]\n",
      "Received Message ID: 114, Float Bytes: UInt8[0x30, 0xde, 0x75, 0x3f], Float Value: 0.960422\n",
      "Raw bytes received: UInt8[0x72, 0xcd, 0x12, 0x59, 0x3f]\n",
      "Received Message ID: 114, Float Bytes: UInt8[0xcd, 0x12, 0x59, 0x3f], Float Value: 0.847943\n",
      "Raw bytes received: UInt8[0x72, 0x74, 0xec, 0x3f, 0x3f]\n",
      "Received Message ID: 114, Float Bytes: UInt8[0x74, 0xec, 0x3f, 0x3f], Float Value: 0.749702\n",
      "Raw bytes received: UInt8[0x72, 0x94, 0xf0, 0x29, 0x3f]\n",
      "Received Message ID: 114, Float Bytes: UInt8[0x94, 0xf0, 0x29, 0x3f], Float Value: 0.663827\n",
      "Raw bytes received: UInt8[0x72, 0xdd, 0xb5, 0x16, 0x3f]\n",
      "Received Message ID: 114, Float Bytes: UInt8[0xdd, 0xb5, 0x16, 0x3f], Float Value: 0.588713\n",
      "Raw bytes received: UInt8[0x72, 0x87, 0xe1, 0x05, 0x3f]\n",
      "Received Message ID: 114, Float Bytes: UInt8[0x87, 0xe1, 0x05, 0x3f], Float Value: 0.522973\n",
      "Raw bytes received: UInt8[0x72, 0x30, 0x48, 0xee, 0x3e]\n",
      "Received Message ID: 114, Float Bytes: UInt8[0x30, 0x48, 0xee, 0x3e], Float Value: 0.465394\n",
      "Raw bytes received: UInt8[0x72, 0x66, 0x74, 0xd4, 0x3e]\n",
      "Received Message ID: 114, Float Bytes: UInt8[0x66, 0x74, 0xd4, 0x3e], Float Value: 0.414951\n",
      "Raw bytes received: UInt8[0x72, 0x7c, 0xd1, 0xbd, 0x3e]\n",
      "Received Message ID: 114, Float Bytes: UInt8[0x7c, 0xd1, 0xbd, 0x3e], Float Value: 0.370739\n",
      "Raw bytes received: UInt8[0x72, 0xf6, 0xf8, 0xa9, 0x3e]\n",
      "Received Message ID: 114, Float Bytes: UInt8[0xf6, 0xf8, 0xa9, 0x3e], Float Value: 0.331978\n",
      "Raw bytes received: UInt8[0x72, 0xcf, 0x92, 0x98, 0x3e]\n",
      "Received Message ID: 114, Float Bytes: UInt8[0xcf, 0x92, 0x98, 0x3e], Float Value: 0.297995\n",
      "Raw bytes received: UInt8[0x72, 0xe7, 0x51, 0x89, 0x3e]\n",
      "Received Message ID: 114, Float Bytes: UInt8[0xe7, 0x51, 0x89, 0x3e], Float Value: 0.268203\n",
      "Raw bytes received: UInt8[0x72, 0xe3, 0xe8, 0x77, 0x3e]\n",
      "Received Message ID: 114, Float Bytes: UInt8[0xe3, 0xe8, 0x77, 0x3e], Float Value: 0.242099\n",
      "Raw bytes received: UInt8[0x72, 0xa8, 0x83, 0x60, 0x3e]\n",
      "Received Message ID: 114, Float Bytes: UInt8[0xa8, 0x83, 0x60, 0x3e], Float Value: 0.219252\n",
      "Raw bytes received: UInt8[0x72, 0x1b, 0x10, 0x4c, 0x3e]\n",
      "Received Message ID: 114, Float Bytes: UInt8[0x1b, 0x10, 0x4c, 0x3e], Float Value: 0.199280\n",
      "Raw bytes received: UInt8[0x72, 0x26, 0x3b, 0x3a, 0x3e]\n",
      "Received Message ID: 114, Float Bytes: UInt8[0x26, 0x3b, 0x3a, 0x3e], Float Value: 0.181866\n",
      "Raw bytes received: UInt8[0x72, 0x0d, 0xbc, 0x2a, 0x3e]\n",
      "Received Message ID: 114, Float Bytes: UInt8[0x0d, 0xbc, 0x2a, 0x3e], Float Value: 0.166733\n",
      "Raw bytes received: UInt8[0x72, 0xb1, 0x57, 0x1d, 0x3e]\n",
      "Received Message ID: 114, Float Bytes: UInt8[0xb1, 0x57, 0x1d, 0x3e], Float Value: 0.153655\n",
      "Raw bytes received: UInt8[0x72, 0x47, 0xdd, 0x11, 0x3e]\n",
      "Received Message ID: 114, Float Bytes: UInt8[0x47, 0xdd, 0x11, 0x3e], Float Value: 0.142446\n",
      "Raw bytes received: UInt8[0x72, 0x72, 0x2c, 0x08, 0x3e]\n",
      "Received Message ID: 114, Float Bytes: UInt8[0x72, 0x2c, 0x08, 0x3e], Float Value: 0.132982\n",
      "Raw bytes received: UInt8[0x72, 0x93, 0x28, 0x00, 0x3e]\n",
      "Received Message ID: 114, Float Bytes: UInt8[0x93, 0x28, 0x00, 0x3e], Float Value: 0.125155\n",
      "Raw bytes received: UInt8[0x72, 0x5f, 0x93, 0xf3, 0x3d]\n",
      "Received Message ID: 114, Float Bytes: UInt8[0x5f, 0x93, 0xf3, 0x3d], Float Value: 0.118933\n",
      "Raw bytes received: UInt8[0x72, 0x00, 0x00, 0x00, 0x80]\n",
      "Received Message ID: 114, Float Bytes: UInt8[0x00, 0x00, 0x00, 0x80], Float Value: -0.000000\n",
      "Raw bytes received: UInt8[0x72, 0x54, 0xc2, 0x94, 0x40]\n",
      "Received Message ID: 114, Float Bytes: UInt8[0x54, 0xc2, 0x94, 0x40], Float Value: 4.648722\n",
      "Raw bytes received: UInt8[0x72, 0xd8, 0x3c, 0x7f, 0x40]\n",
      "Received Message ID: 114, Float Bytes: UInt8[0xd8, 0x3c, 0x7f, 0x40], Float Value: 3.988089\n",
      "Raw bytes received: UInt8[0x72, 0xfe, 0xd9, 0x5b, 0x40]\n",
      "Received Message ID: 114, Float Bytes: UInt8[0xfe, 0xd9, 0x5b, 0x40], Float Value: 3.435180\n",
      "Raw bytes received: UInt8[0x72, 0x26, 0xf3, 0x3d, 0x40]\n",
      "Received Message ID: 114, Float Bytes: UInt8[0x26, 0xf3, 0x3d, 0x40], Float Value: 2.967966\n",
      "Raw bytes received: UInt8[0x72, 0x16, 0x81, 0x24, 0x40]\n",
      "Received Message ID: 114, Float Bytes: UInt8[0x16, 0x81, 0x24, 0x40], Float Value: 2.570379\n",
      "Raw bytes received: UInt8[0x72, 0xbc, 0xbc, 0x0e, 0x40]\n",
      "Received Message ID: 114, Float Bytes: UInt8[0xbc, 0xbc, 0x0e, 0x40], Float Value: 2.230269\n",
      "Raw bytes received: UInt8[0x72, 0x53, 0x16, 0xf8, 0x3f]\n",
      "Received Message ID: 114, Float Bytes: UInt8[0x53, 0x16, 0xf8, 0x3f], Float Value: 1.938181\n",
      "Raw bytes received: UInt8[0x72, 0x61, 0xe1, 0xd7, 0x3f]\n",
      "Received Message ID: 114, Float Bytes: UInt8[0x61, 0xe1, 0xd7, 0x3f], Float Value: 1.686566\n",
      "Raw bytes received: UInt8[0x72, 0x31, 0x12, 0xbc, 0x3f]\n",
      "Received Message ID: 114, Float Bytes: UInt8[0x31, 0x12, 0xbc, 0x3f], Float Value: 1.469305\n",
      "Raw bytes received: UInt8[0x72, 0x7d, 0x03, 0xa4, 0x3f]\n",
      "Received Message ID: 114, Float Bytes: UInt8[0x7d, 0x03, 0xa4, 0x3f], Float Value: 1.281356\n",
      "Raw bytes received: UInt8[0x72, 0xa7, 0x2b, 0x8f, 0x3f]\n",
      "Received Message ID: 114, Float Bytes: UInt8[0xa7, 0x2b, 0x8f, 0x3f], Float Value: 1.118520\n",
      "Raw bytes received: UInt8[0x72, 0x0d, 0x2e, 0x7a, 0x3f]\n",
      "Received Message ID: 114, Float Bytes: UInt8[0x0d, 0x2e, 0x7a, 0x3f], Float Value: 0.977265\n",
      "Raw bytes received: UInt8[0x72, 0x15, 0xc7, 0x5a, 0x3f]\n",
      "Received Message ID: 114, Float Bytes: UInt8[0x15, 0xc7, 0x5a, 0x3f], Float Value: 0.854600\n",
      "Raw bytes received: UInt8[0x72, 0x24, 0x7c, 0x3f, 0x3f]\n",
      "Received Message ID: 114, Float Bytes: UInt8[0x24, 0x7c, 0x3f, 0x3f], Float Value: 0.747988\n",
      "Raw bytes received: UInt8[0x72, 0x0c, 0xbe, 0x27, 0x3f]\n",
      "Received Message ID: 114, Float Bytes: UInt8[0x0c, 0xbe, 0x27, 0x3f], Float Value: 0.655244\n",
      "Raw bytes received: UInt8[0x72, 0x2b, 0x13, 0x13, 0x3f]\n",
      "Received Message ID: 114, Float Bytes: UInt8[0x2b, 0x13, 0x13, 0x3f], Float Value: 0.574511\n",
      "Raw bytes received: UInt8[0x72, 0xca, 0x12, 0x01, 0x3f]\n",
      "Received Message ID: 114, Float Bytes: UInt8[0xca, 0x12, 0x01, 0x3f], Float Value: 0.504193\n",
      "Raw bytes received: UInt8[0x72, 0x64, 0xc3, 0xe2, 0x3e]\n",
      "Received Message ID: 114, Float Bytes: UInt8[0x64, 0xc3, 0xe2, 0x3e], Float Value: 0.442897\n",
      "Raw bytes received: UInt8[0x72, 0x37, 0x65, 0xc7, 0x3e]\n",
      "Received Message ID: 114, Float Bytes: UInt8[0x37, 0x65, 0xc7, 0x3e], Float Value: 0.389444\n",
      "Raw bytes received: UInt8[0x72, 0x2e, 0x83, 0xaf, 0x3e]\n",
      "Received Message ID: 114, Float Bytes: UInt8[0x2e, 0x83, 0xaf, 0x3e], Float Value: 0.342798\n",
      "Raw bytes received: UInt8[0x72, 0xb2, 0xa8, 0x9a, 0x3e]\n",
      "Received Message ID: 114, Float Bytes: UInt8[0xb2, 0xa8, 0x9a, 0x3e], Float Value: 0.302068\n",
      "Raw bytes received: UInt8[0x72, 0xd5, 0x70, 0x88, 0x3e]\n",
      "Received Message ID: 114, Float Bytes: UInt8[0xd5, 0x70, 0x88, 0x3e], Float Value: 0.266486\n",
      "Raw bytes received: UInt8[0x72, 0x48, 0x08, 0x71, 0x3e]\n",
      "Received Message ID: 114, Float Bytes: UInt8[0x48, 0x08, 0x71, 0x3e], Float Value: 0.235383\n",
      "Raw bytes received: UInt8[0x72, 0xe9, 0x2e, 0x55, 0x3e]\n",
      "Received Message ID: 114, Float Bytes: UInt8[0xe9, 0x2e, 0x55, 0x3e], Float Value: 0.208187\n",
      "Raw bytes received: UInt8[0x72, 0x2f, 0xd0, 0x3c, 0x3e]\n",
      "Received Message ID: 114, Float Bytes: UInt8[0x2f, 0xd0, 0x3c, 0x3e], Float Value: 0.184388\n",
      "Raw bytes received: UInt8[0x72, 0xfb, 0x7a, 0x27, 0x3e]\n",
      "Received Message ID: 114, Float Bytes: UInt8[0xfb, 0x7a, 0x27, 0x3e], Float Value: 0.163555\n",
      "Raw bytes received: UInt8[0x72, 0xd1, 0xcb, 0x14, 0x3e]\n",
      "Received Message ID: 114, Float Bytes: UInt8[0xd1, 0xcb, 0x14, 0x3e], Float Value: 0.145309\n",
      "Raw bytes received: UInt8[0x72, 0xc7, 0x6d, 0x04, 0x3e]\n",
      "Received Message ID: 114, Float Bytes: UInt8[0xc7, 0x6d, 0x04, 0x3e], Float Value: 0.129325\n",
      "Raw bytes received: UInt8[0x72, 0xc1, 0x29, 0xec, 0x3d]\n",
      "Received Message ID: 114, Float Bytes: UInt8[0xc1, 0x29, 0xec, 0x3d], Float Value: 0.115314\n",
      "Raw bytes received: UInt8[0x72, 0xa9, 0x02, 0xd3, 0x3d]\n",
      "Received Message ID: 114, Float Bytes: UInt8[0xa9, 0x02, 0xd3, 0x3d], Float Value: 0.103032\n",
      "Raw bytes received: UInt8[0x72, 0xfc, 0xf1, 0xbc, 0x3d]\n",
      "Received Message ID: 114, Float Bytes: UInt8[0xfc, 0xf1, 0xbc, 0x3d], Float Value: 0.092258\n",
      "Raw bytes received: UInt8[0x72, 0x11, 0x98, 0xa9, 0x3d]\n",
      "Received Message ID: 114, Float Bytes: UInt8[0x11, 0x98, 0xa9, 0x3d], Float Value: 0.082810\n",
      "Raw bytes received: UInt8[0x72, 0x82, 0xa0, 0x98, 0x3d]\n",
      "Received Message ID: 114, Float Bytes: UInt8[0x82, 0xa0, 0x98, 0x3d], Float Value: 0.074525\n",
      "Raw bytes received: UInt8[0x72, 0x0d, 0xc4, 0x89, 0x3d]\n",
      "Received Message ID: 114, Float Bytes: UInt8[0x0d, 0xc4, 0x89, 0x3d], Float Value: 0.067268\n",
      "Raw bytes received: UInt8[0x72, 0x5a, 0x7e, 0x79, 0x3d]\n",
      "Received Message ID: 114, Float Bytes: UInt8[0x5a, 0x7e, 0x79, 0x3d], Float Value: 0.060912\n",
      "Raw bytes received: UInt8[0x72, 0xc3, 0xba, 0x62, 0x3d]\n",
      "Received Message ID: 114, Float Bytes: UInt8[0xc3, 0xba, 0x62, 0x3d], Float Value: 0.055354\n",
      "Raw bytes received: UInt8[0x72, 0x73, 0xe1, 0x4e, 0x3d]\n",
      "Received Message ID: 114, Float Bytes: UInt8[0x73, 0xe1, 0x4e, 0x3d], Float Value: 0.050508\n",
      "Raw bytes received: UInt8[0x72, 0x87, 0xa5, 0x3d, 0x3d]\n",
      "Received Message ID: 114, Float Bytes: UInt8[0x87, 0xa5, 0x3d, 0x3d], Float Value: 0.046300\n",
      "Raw bytes received: UInt8[0x72, 0xdf, 0xbd, 0x2e, 0x3d]\n",
      "Received Message ID: 114, Float Bytes: UInt8[0xdf, 0xbd, 0x2e, 0x3d], Float Value: 0.042662\n",
      "Raw bytes received: UInt8[0x72, 0xf9, 0xf5, 0x21, 0x3d]\n",
      "Received Message ID: 114, Float Bytes: UInt8[0xf9, 0xf5, 0x21, 0x3d], Float Value: 0.039541\n",
      "Raw bytes received: UInt8[0x72, 0x34, 0x2a, 0x17, 0x3d]\n",
      "Received Message ID: 114, Float Bytes: UInt8[0x34, 0x2a, 0x17, 0x3d], Float Value: 0.036905\n",
      "Raw bytes received: UInt8[0x72, 0xb1, 0x3a, 0x0e, 0x3d]\n",
      "Received Message ID: 114, Float Bytes: UInt8[0xb1, 0x3a, 0x0e, 0x3d], Float Value: 0.034724\n",
      "Raw bytes received: UInt8[0x72, 0x0e, 0x1e, 0x07, 0x3d]\n",
      "Received Message ID: 114, Float Bytes: UInt8[0x0e, 0x1e, 0x07, 0x3d], Float Value: 0.032988\n",
      "Raw bytes received: UInt8[0x72, 0xed, 0xd9, 0x01, 0x3d]\n",
      "Received Message ID: 114, Float Bytes: UInt8[0xed, 0xd9, 0x01, 0x3d], Float Value: 0.031702\n",
      "Raw bytes received: UInt8[0x72, 0x00, 0x00, 0x00, 0x80]\n",
      "Received Message ID: 114, Float Bytes: UInt8[0x00, 0x00, 0x00, 0x80], Float Value: -0.000000\n",
      "Raw bytes received: UInt8[0x72, 0xc6, 0x5e, 0x2e, 0x41]\n",
      "Received Message ID: 114, Float Bytes: UInt8[0xc6, 0x5e, 0x2e, 0x41], Float Value: 10.898138\n",
      "Raw bytes received: UInt8[0x72, 0xc6, 0x5e, 0x2e, 0x41]\n",
      "Received Message ID: 114, Float Bytes: UInt8[0xc6, 0x5e, 0x2e, 0x41], Float Value: 10.898138\n",
      "Raw bytes received: UInt8[0x72, 0xc6, 0x5e, 0x2e, 0x41]\n",
      "Received Message ID: 114, Float Bytes: UInt8[0xc6, 0x5e, 0x2e, 0x41], Float Value: 10.898138\n",
      "Raw bytes received: UInt8[0x72, 0xc6, 0x5e, 0x2e, 0x41]\n",
      "Received Message ID: 114, Float Bytes: UInt8[0xc6, 0x5e, 0x2e, 0x41], Float Value: 10.898138\n",
      "Raw bytes received: UInt8[0x72, 0xc6, 0x5e, 0x2e, 0x41]\n",
      "Received Message ID: 114, Float Bytes: UInt8[0xc6, 0x5e, 0x2e, 0x41], Float Value: 10.898138\n",
      "Raw bytes received: UInt8[0x72, 0xc6, 0x5e, 0x2e, 0x41]\n",
      "Received Message ID: 114, Float Bytes: UInt8[0xc6, 0x5e, 0x2e, 0x41], Float Value: 10.898138\n",
      "Raw bytes received: UInt8[0x72, 0xc6, 0x5e, 0x2e, 0x41]\n",
      "Received Message ID: 114, Float Bytes: UInt8[0xc6, 0x5e, 0x2e, 0x41], Float Value: 10.898138\n",
      "Raw bytes received: UInt8[0x72, 0xc6, 0x5e, 0x2e, 0x41]\n",
      "Received Message ID: 114, Float Bytes: UInt8[0xc6, 0x5e, 0x2e, 0x41], Float Value: 10.898138\n",
      "Raw bytes received: UInt8[0x72, 0xc6, 0x5e, 0x2e, 0x41]\n",
      "Received Message ID: 114, Float Bytes: UInt8[0xc6, 0x5e, 0x2e, 0x41], Float Value: 10.898138\n",
      "Raw bytes received: UInt8[0x72, 0xc6, 0x5e, 0x2e, 0x41]\n",
      "Received Message ID: 114, Float Bytes: UInt8[0xc6, 0x5e, 0x2e, 0x41], Float Value: 10.898138\n",
      "Raw bytes received: UInt8[0x72, 0xc6, 0x5e, 0x2e, 0x41]\n",
      "Received Message ID: 114, Float Bytes: UInt8[0xc6, 0x5e, 0x2e, 0x41], Float Value: 10.898138\n",
      "Raw bytes received: UInt8[0x72, 0xc6, 0x5e, 0x2e, 0x41]\n",
      "Received Message ID: 114, Float Bytes: UInt8[0xc6, 0x5e, 0x2e, 0x41], Float Value: 10.898138\n",
      "Raw bytes received: UInt8[0x72, 0xc6, 0x5e, 0x2e, 0x41]\n",
      "Received Message ID: 114, Float Bytes: UInt8[0xc6, 0x5e, 0x2e, 0x41], Float Value: 10.898138\n",
      "Raw bytes received: UInt8[0x72, 0xc6, 0x5e, 0x2e, 0x41]\n",
      "Received Message ID: 114, Float Bytes: UInt8[0xc6, 0x5e, 0x2e, 0x41], Float Value: 10.898138\n",
      "Raw bytes received: UInt8[0x72, 0xc6, 0x5e, 0x2e, 0x41]\n",
      "Received Message ID: 114, Float Bytes: UInt8[0xc6, 0x5e, 0x2e, 0x41], Float Value: 10.898138\n",
      "Raw bytes received: UInt8[0x72, 0xc6, 0x5e, 0x2e, 0x41]\n",
      "Received Message ID: 114, Float Bytes: UInt8[0xc6, 0x5e, 0x2e, 0x41], Float Value: 10.898138\n",
      "Raw bytes received: UInt8[0x72, 0xc6, 0x5e, 0x2e, 0x41]\n",
      "Received Message ID: 114, Float Bytes: UInt8[0xc6, 0x5e, 0x2e, 0x41], Float Value: 10.898138\n",
      "Raw bytes received: UInt8[0x72, 0xc6, 0x5e, 0x2e, 0x41]\n",
      "Received Message ID: 114, Float Bytes: UInt8[0xc6, 0x5e, 0x2e, 0x41], Float Value: 10.898138\n",
      "Raw bytes received: UInt8[0x72, 0xc6, 0x5e, 0x2e, 0x41]\n",
      "Received Message ID: 114, Float Bytes: UInt8[0xc6, 0x5e, 0x2e, 0x41], Float Value: 10.898138\n",
      "Raw bytes received: UInt8[0x72, 0xc6, 0x5e, 0x2e, 0x41]\n",
      "Received Message ID: 114, Float Bytes: UInt8[0xc6, 0x5e, 0x2e, 0x41], Float Value: 10.898138\n"
     ]
    }
   ],
   "source": [
    "# p = plot(legend=false)\n",
    "# for (result, r) in sol\n",
    "#     AdaStress.replay!(mdp, result)\n",
    "#     plot!(p, mdp.sim.log)\n",
    "# end"
   ]
  }
 ],
 "metadata": {
  "kernelspec": {
   "display_name": "Julia 1.10.2",
   "language": "julia",
   "name": "julia-1.10"
  },
  "language_info": {
   "file_extension": ".jl",
   "mimetype": "application/julia",
   "name": "julia",
   "version": "1.10.2"
  }
 },
 "nbformat": 4,
 "nbformat_minor": 2
}
