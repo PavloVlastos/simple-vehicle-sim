{
 "cells": [
  {
   "cell_type": "markdown",
   "metadata": {},
   "source": [
    "# Stress Test Yaw-Rate\n",
    "This is brief example of using AdaStress to adaptively stress test an external simulation. This is done by sending and receiving data over TCP between AdaStress and the main vehicle simulation."
   ]
  },
  {
   "cell_type": "code",
   "execution_count": 1,
   "metadata": {},
   "outputs": [
    {
     "name": "stderr",
     "output_type": "stream",
     "text": [
      "\u001b[32m\u001b[1m  Activating\u001b[22m\u001b[39m new project at `~/Repos/simple-vehicle-sim/ST_yaw_rate`\n"
     ]
    },
    {
     "data": {
      "text/plain": [
       "start_server (generic function with 1 method)"
      ]
     },
     "execution_count": 1,
     "metadata": {},
     "output_type": "execute_result"
    }
   ],
   "source": [
    "\n",
    "using Pkg\n",
    "Pkg.activate(\".\")\n",
    "\n",
    "include(\"transceive_data.jl\")"
   ]
  },
  {
   "cell_type": "code",
   "execution_count": 2,
   "metadata": {},
   "outputs": [],
   "source": [
    "using AdaStress\n",
    "import AdaStress.BlackBox\n",
    "# using Plots"
   ]
  },
  {
   "cell_type": "markdown",
   "metadata": {},
   "source": [
    "# Simulation"
   ]
  },
  {
   "cell_type": "code",
   "execution_count": 3,
   "metadata": {},
   "outputs": [],
   "source": [
    "using Distributions"
   ]
  },
  {
   "cell_type": "code",
   "execution_count": 4,
   "metadata": {},
   "outputs": [
    {
     "data": {
      "text/plain": [
       "update! (generic function with 1 method)"
      ]
     },
     "execution_count": 4,
     "metadata": {},
     "output_type": "execute_result"
    }
   ],
   "source": [
    "Base.@kwdef mutable struct simple_vehicle <: AdaStress.BlackBox\n",
    "\tt::Float64 = 0.0\n",
    "\tt_max::Float64 = 10.0\n",
    "\tpsi_dot::Float64 = 0.0 # the yaw-rate of the vehicle\n",
    "\tpsi_dot_fail::Float64 = 3.0 # radians per second\n",
    "\tdist::Normal = Normal(0.0, 1.0)\n",
    "\tlog::Vector{Float64} = []\n",
    "end\n",
    "\n",
    "\n",
    "function initialize!(sim::simple_vehicle)\n",
    "\tsim.t = 0.0\n",
    "\tsim.psi_dot = 0.0\n",
    "\tsim.log = [sim.psi_dot]\n",
    "end\n",
    "\n",
    "function update!(sim::simple_vehicle)\n",
    "    # Wait for yaw-rate data\n",
    "    psi_dot, receive_message()\n",
    "    sim.t = \n",
    "    a = rand(sim.dist)\n",
    "    sim.x += a\n",
    "    push!(sim.log, sim.x)\n",
    "    return logpdf(sim.dist, a) - logpdf(sim.dist, 0.0)\n",
    "end"
   ]
  },
  {
   "cell_type": "code",
   "execution_count": 5,
   "metadata": {},
   "outputs": [],
   "source": [
    "AdaStress.reset!(sim::simple_vehicle) = initialize!(sim)\n",
    "AdaStress.step!(sim::simple_vehicle) = update!(sim)\n",
    "AdaStress.isterminal(sim::simple_vehicle) = sim.t >= sim.t_max\n",
    "AdaStress.isevent(sim::simple_vehicle) = sim.psi_dot >= sim.psi_dot_fail\n",
    "AdaStress.distance(sim::simple_vehicle) = max(sim.psi_dot_fail - sim.psi_dot, 0.0)"
   ]
  },
  {
   "cell_type": "code",
   "execution_count": 6,
   "metadata": {},
   "outputs": [
    {
     "name": "stdout",
     "output_type": "stream",
     "text": [
      "Server listening on 0.0.0.0:9201...\n"
     ]
    }
   ],
   "source": [
    "# 9201 is the port number for getting psi_dot data from the simulation\n",
    "start_server(\"0.0.0.0\", 9201) \n"
   ]
  },
  {
   "cell_type": "code",
   "execution_count": null,
   "metadata": {},
   "outputs": [],
   "source": []
  }
 ],
 "metadata": {
  "kernelspec": {
   "display_name": "Julia 1.10.2",
   "language": "julia",
   "name": "julia-1.10"
  },
  "language_info": {
   "file_extension": ".jl",
   "mimetype": "application/julia",
   "name": "julia",
   "version": "1.10.2"
  }
 },
 "nbformat": 4,
 "nbformat_minor": 2
}
